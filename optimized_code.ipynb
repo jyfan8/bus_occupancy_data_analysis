{
 "cells": [
  {
   "cell_type": "code",
   "execution_count": 1,
   "metadata": {},
   "outputs": [],
   "source": [
    "#!pip install vaex\n",
    "#!pip install nbformat\n",
    "#!pip install nbconvert\n",
    "# Remove comments if vaex is not installed"
   ]
  },
  {
   "cell_type": "code",
   "execution_count": 2,
   "metadata": {},
   "outputs": [],
   "source": [
    "import numpy as np # type: ignore\n",
    "import os\n",
    "import vaex # type: ignore\n",
    "import pandas as pd\n",
    "from datetime import datetime, timedelta\n",
    "from pathlib import Path\n",
    "import nbformat\n",
    "from nbconvert.preprocessors import ExecutePreprocessor"
   ]
  },
  {
   "cell_type": "code",
   "execution_count": 3,
   "metadata": {},
   "outputs": [],
   "source": [
    "def run_notebook(notebook_path):\n",
    "    # Load the notebook\n",
    "    with open(notebook_path) as f:\n",
    "        notebook = nbformat.read(f, as_version=4)\n",
    "    \n",
    "    # Execute the notebook\n",
    "    ep = ExecutePreprocessor(timeout=600, kernel_name='python3')\n",
    "    ep.preprocess(notebook, {'metadata': {'path': './'}})\n",
    "\n",
    "# Run the other notebook\n",
    "run_notebook(\"data_extraction_to_csv.ipynb\")"
   ]
  },
  {
   "cell_type": "code",
   "execution_count": 4,
   "metadata": {},
   "outputs": [
    {
     "name": "stdout",
     "output_type": "stream",
     "text": [
      "12012025\n"
     ]
    }
   ],
   "source": [
    "# Get today's date\n",
    "today = datetime.today()\n",
    "\n",
    "# Check if today is Sunday (weekday() returns 6 for Sunday)\n",
    "if today.weekday() != 6:\n",
    "    # Subtract the necessary number of days to get to the previous Sunday\n",
    "    today = today - timedelta(days=(today.weekday() + 1))\n",
    "\n",
    "# Format the date as 'ddmmyyyy'\n",
    "today = today.strftime('%d%m%Y')\n",
    "print(today)"
   ]
  },
  {
   "cell_type": "code",
   "execution_count": 5,
   "metadata": {},
   "outputs": [
    {
     "name": "stdout",
     "output_type": "stream",
     "text": [
      "stops.csv\n",
      "routes.csv\n",
      "calendar.csv\n",
      "fare_attributes.csv\n",
      "fare_rules.csv\n",
      "agency.csv\n",
      "shapes.csv\n",
      "trips.csv\n",
      "calendar_dates.csv\n",
      "stop_times.csv\n",
      "feed_info.csv\n"
     ]
    }
   ],
   "source": [
    "# set the route directory\n",
    "csv_p = Path()\n",
    "csv_folder_path = csv_p / f\"Windsor Transit Data Weekly/{today}_transit_windsor\"\n",
    "\n",
    "# read multiple csv's\n",
    "csv_data = {}\n",
    "for file in csv_folder_path.iterdir():\n",
    "    print(file.name)\n",
    "    csv_name = file.name\n",
    "    full_csv_path = file.resolve()\n",
    "    csv_data[csv_name[:-4]] = pd.read_csv(full_csv_path)\n",
    "\n",
    "# data access\n",
    "stop_time_data = csv_data['stop_times']\n",
    "stop_data = csv_data['stops']\n",
    "routes_data = csv_data['routes']\n",
    "trips_data = csv_data['trips']"
   ]
  },
  {
   "cell_type": "code",
   "execution_count": 6,
   "metadata": {},
   "outputs": [
    {
     "data": {
      "text/html": [
       "<div>\n",
       "<style scoped>\n",
       "    .dataframe tbody tr th:only-of-type {\n",
       "        vertical-align: middle;\n",
       "    }\n",
       "\n",
       "    .dataframe tbody tr th {\n",
       "        vertical-align: top;\n",
       "    }\n",
       "\n",
       "    .dataframe thead th {\n",
       "        text-align: right;\n",
       "    }\n",
       "</style>\n",
       "<table border=\"1\" class=\"dataframe\">\n",
       "  <thead>\n",
       "    <tr style=\"text-align: right;\">\n",
       "      <th></th>\n",
       "      <th>route_long_name</th>\n",
       "      <th>stop_name</th>\n",
       "      <th>stop_code</th>\n",
       "      <th>stop_lat</th>\n",
       "      <th>stop_lon</th>\n",
       "      <th>arrival_time</th>\n",
       "      <th>departure_time</th>\n",
       "      <th>stop_sequence</th>\n",
       "      <th>trip_id</th>\n",
       "      <th>direction_id</th>\n",
       "    </tr>\n",
       "  </thead>\n",
       "  <tbody>\n",
       "    <tr>\n",
       "      <th>0</th>\n",
       "      <td>TRANSWAY 1A</td>\n",
       "      <td>Windsor Transit Terminal</td>\n",
       "      <td>1000</td>\n",
       "      <td>42.317486</td>\n",
       "      <td>-83.043368</td>\n",
       "      <td>17:50:00</td>\n",
       "      <td>17:50:00</td>\n",
       "      <td>1</td>\n",
       "      <td>1133706</td>\n",
       "      <td>1</td>\n",
       "    </tr>\n",
       "    <tr>\n",
       "      <th>1</th>\n",
       "      <td>TRANSWAY 1A</td>\n",
       "      <td>Ouellette at Chatham</td>\n",
       "      <td>1002</td>\n",
       "      <td>42.317882</td>\n",
       "      <td>-83.039374</td>\n",
       "      <td>17:52:00</td>\n",
       "      <td>17:52:00</td>\n",
       "      <td>2</td>\n",
       "      <td>1133706</td>\n",
       "      <td>1</td>\n",
       "    </tr>\n",
       "    <tr>\n",
       "      <th>2</th>\n",
       "      <td>TRANSWAY 1A</td>\n",
       "      <td>Ouellette at Park</td>\n",
       "      <td>1004</td>\n",
       "      <td>42.315935</td>\n",
       "      <td>-83.038091</td>\n",
       "      <td>17:53:00</td>\n",
       "      <td>17:53:00</td>\n",
       "      <td>3</td>\n",
       "      <td>1133706</td>\n",
       "      <td>1</td>\n",
       "    </tr>\n",
       "    <tr>\n",
       "      <th>3</th>\n",
       "      <td>TRANSWAY 1A</td>\n",
       "      <td>Ouellette at Wyandotte</td>\n",
       "      <td>1006</td>\n",
       "      <td>42.313499</td>\n",
       "      <td>-83.036628</td>\n",
       "      <td>17:54:00</td>\n",
       "      <td>17:54:00</td>\n",
       "      <td>4</td>\n",
       "      <td>1133706</td>\n",
       "      <td>1</td>\n",
       "    </tr>\n",
       "    <tr>\n",
       "      <th>4</th>\n",
       "      <td>TRANSWAY 1A</td>\n",
       "      <td>Ouellette at Elliott</td>\n",
       "      <td>1008</td>\n",
       "      <td>42.311320</td>\n",
       "      <td>-83.035171</td>\n",
       "      <td>17:59:00</td>\n",
       "      <td>17:59:00</td>\n",
       "      <td>5</td>\n",
       "      <td>1133706</td>\n",
       "      <td>1</td>\n",
       "    </tr>\n",
       "  </tbody>\n",
       "</table>\n",
       "</div>"
      ],
      "text/plain": [
       "  route_long_name                 stop_name stop_code   stop_lat   stop_lon  \\\n",
       "0     TRANSWAY 1A  Windsor Transit Terminal      1000  42.317486 -83.043368   \n",
       "1     TRANSWAY 1A      Ouellette at Chatham      1002  42.317882 -83.039374   \n",
       "2     TRANSWAY 1A         Ouellette at Park      1004  42.315935 -83.038091   \n",
       "3     TRANSWAY 1A    Ouellette at Wyandotte      1006  42.313499 -83.036628   \n",
       "4     TRANSWAY 1A      Ouellette at Elliott      1008  42.311320 -83.035171   \n",
       "\n",
       "  arrival_time departure_time  stop_sequence  trip_id  direction_id  \n",
       "0     17:50:00       17:50:00              1  1133706             1  \n",
       "1     17:52:00       17:52:00              2  1133706             1  \n",
       "2     17:53:00       17:53:00              3  1133706             1  \n",
       "3     17:54:00       17:54:00              4  1133706             1  \n",
       "4     17:59:00       17:59:00              5  1133706             1  "
      ]
     },
     "execution_count": 6,
     "metadata": {},
     "output_type": "execute_result"
    }
   ],
   "source": [
    "def extract_route_data():\n",
    "    # Step 2.\n",
    "    expected = routes_data[['route_id', 'route_long_name']]\n",
    "\n",
    "    # Step 3.\n",
    "    # Perform the left join\n",
    "    expected = expected.merge(trips_data, on='route_id', how='left')[['direction_id', 'trip_id','route_long_name', 'route_id']]\n",
    "\n",
    "    # Step 4.\n",
    "    expected = expected.merge(stop_time_data, on='trip_id', how='left')[['route_long_name', 'direction_id', 'arrival_time', \n",
    "                                                                         'stop_id', 'stop_sequence', 'trip_id', 'departure_time', 'route_id']]\n",
    "\n",
    "    # Step 5.\n",
    "    expected = expected.merge(stop_data, on='stop_id', how='left')[['route_id','route_long_name', 'stop_name', 'stop_code','stop_lat', \n",
    "                                                                    'stop_lon', 'arrival_time', 'departure_time', \n",
    "                                                                    'stop_sequence','trip_id', 'direction_id']]\n",
    "    expected = expected.sort_values(by=['route_id','trip_id','stop_sequence'])\n",
    "    expected = expected.drop(columns='route_id')\n",
    "    return expected\n",
    "\n",
    "expected = extract_route_data()\n",
    "expected.head()"
   ]
  },
  {
   "cell_type": "code",
   "execution_count": 7,
   "metadata": {},
   "outputs": [
    {
     "data": {
      "text/plain": [
       "array(['TRANSWAY 1A', 'TRANSWAY 1C', 'CROSSTOWN 2', 'CENTRAL 3',\n",
       "       'OTTAWA 4', 'DOUGALL 6', 'WALKERVILLE 8', 'PARENT 14', 'TUNNEL',\n",
       "       'SOUTH WINDSOR 7', 'LAUZON 10', 'LASALLE 25', 'LTW ROUTE 42',\n",
       "       '518 EXPRESS', 'ROUTE 605', '418 EXPRESS', 'ROUTE 115',\n",
       "       'ROUTE 305'], dtype=object)"
      ]
     },
     "execution_count": 7,
     "metadata": {},
     "output_type": "execute_result"
    }
   ],
   "source": [
    "expected['route_long_name'].unique() "
   ]
  },
  {
   "cell_type": "code",
   "execution_count": 8,
   "metadata": {},
   "outputs": [
    {
     "name": "stdout",
     "output_type": "stream",
     "text": [
      "Loaded DataFrames for:\n",
      "October 2023\n",
      "Jan 2024\n",
      "October 2024\n",
      "July 2024\n",
      "June 2024\n",
      "September 2024\n",
      "August 2024\n",
      "December 2023\n",
      "Feb 2024\n",
      "November 2023\n",
      "March 2024\n",
      "April 2024\n",
      "May 2024\n"
     ]
    }
   ],
   "source": [
    "# Folder name containing the CSV files\n",
    "folder_name = \"12 Months APC Data - Transit Windsor\"\n",
    "\n",
    "# Initialize an empty dictionary to store DataFrames\n",
    "dfs_dict = {}\n",
    "\n",
    "# Loop through all files in the folder\n",
    "for file_name in os.listdir(folder_name):\n",
    "    if file_name.endswith(\".csv\"):\n",
    "        # Extract the month and year from the file name\n",
    "        file_parts = file_name.split(\"-\")  # Split by \"-\"\n",
    "        month_year = file_parts[-1].strip().replace(\".csv\", \"\")  # Get \"Month Year\" part\n",
    "\n",
    "        # Load the CSV file into a Vaex DataFrame\n",
    "        file_path = os.path.join(folder_name, file_name)\n",
    "        df = vaex.open(file_path)\n",
    "\n",
    "        # Store the DataFrame in the dictionary with the key as \"month_year\"\n",
    "        dfs_dict[month_year] = df\n",
    "\n",
    "# Print keys of the dictionary to verify\n",
    "print(\"Loaded DataFrames for:\", *list(dfs_dict.keys()), sep='\\n')\n"
   ]
  },
  {
   "cell_type": "code",
   "execution_count": 9,
   "metadata": {},
   "outputs": [
    {
     "data": {
      "text/html": [
       "<table>\n",
       "<thead>\n",
       "<tr><th>#                            </th><th style=\"text-align: right;\">  Stop Code</th><th>Stop Name                      </th><th>Day of Week  </th><th>Direction  </th><th>Month    </th><th style=\"text-align: right;\">  Passengers In (bin)</th><th style=\"text-align: right;\">  Passengers Out (bin)</th><th>Pattern Name                  </th><th>Route Name  </th><th>Transit Date  </th><th style=\"text-align: right;\">  Transit Hour</th><th>Trip In Filter  </th><th>Trip Out Filter  </th><th style=\"text-align: right;\">  Trip Start Transit Hour</th><th>TripType  </th><th style=\"text-align: right;\">  Vehicle</th><th>Vehicle Name Filter  </th><th>ActualTime            </th><th style=\"text-align: right;\">  Daily Trip ID</th><th>Start Trip Time       </th><th style=\"text-align: right;\">  Number of Trips</th><th style=\"text-align: right;\">  Passengers In</th><th style=\"text-align: right;\">  Passengers Out</th><th style=\"text-align: right;\">  Trip Passengers In</th><th style=\"text-align: right;\">  Trip Passengers Out</th></tr>\n",
       "</thead>\n",
       "<tbody>\n",
       "<tr><td><i style='opacity: 0.6'>0</i></td><td style=\"text-align: right;\">       2232</td><td>Heritage at Sixth Concession   </td><td>Tuesday      </td><td>EASTBOUND  </td><td>September</td><td style=\"text-align: right;\">                    1</td><td style=\"text-align: right;\">                     0</td><td>PAT1 LASALLE 25 WEEKDAY 1 EAST</td><td>LASALLE 25  </td><td>2024-09-03    </td><td style=\"text-align: right;\">            12</td><td>True            </td><td>True             </td><td style=\"text-align: right;\">                       11</td><td>Regular   </td><td style=\"text-align: right;\">     8024</td><td>True                 </td><td>2024-09-03 12:10:34 PM</td><td style=\"text-align: right;\">        4474288</td><td>2024-09-03 11:54:25 AM</td><td style=\"text-align: right;\">                1</td><td style=\"text-align: right;\">              1</td><td style=\"text-align: right;\">               0</td><td style=\"text-align: right;\">                   2</td><td style=\"text-align: right;\">                    5</td></tr>\n",
       "<tr><td><i style='opacity: 0.6'>1</i></td><td style=\"text-align: right;\">       2168</td><td>Vollmer Centre Front Entrance  </td><td>Tuesday      </td><td>EASTBOUND  </td><td>September</td><td style=\"text-align: right;\">                    1</td><td style=\"text-align: right;\">                     0</td><td>PAT1 LASALLE 25 WEEKDAY 1 EAST</td><td>LASALLE 25  </td><td>2024-09-03    </td><td style=\"text-align: right;\">            11</td><td>True            </td><td>True             </td><td style=\"text-align: right;\">                       11</td><td>Regular   </td><td style=\"text-align: right;\">     8024</td><td>True                 </td><td>2024-09-03 11:54:25 AM</td><td style=\"text-align: right;\">        4474288</td><td>2024-09-03 11:54:25 AM</td><td style=\"text-align: right;\">                1</td><td style=\"text-align: right;\">              1</td><td style=\"text-align: right;\">               0</td><td style=\"text-align: right;\">                   2</td><td style=\"text-align: right;\">                    5</td></tr>\n",
       "<tr><td><i style='opacity: 0.6'>2</i></td><td style=\"text-align: right;\">       2263</td><td>St Clair College Front Entrance</td><td>Tuesday      </td><td>EASTBOUND  </td><td>September</td><td style=\"text-align: right;\">                    0</td><td style=\"text-align: right;\">                     5</td><td>PAT1 LASALLE 25 WEEKDAY 1 EAST</td><td>LASALLE 25  </td><td>2024-09-03    </td><td style=\"text-align: right;\">            12</td><td>True            </td><td>True             </td><td style=\"text-align: right;\">                       11</td><td>Regular   </td><td style=\"text-align: right;\">     8024</td><td>True                 </td><td>2024-09-03 12:16:00 PM</td><td style=\"text-align: right;\">        4474288</td><td>2024-09-03 11:54:25 AM</td><td style=\"text-align: right;\">                1</td><td style=\"text-align: right;\">              0</td><td style=\"text-align: right;\">               5</td><td style=\"text-align: right;\">                   2</td><td style=\"text-align: right;\">                    5</td></tr>\n",
       "<tr><td><i style='opacity: 0.6'>3</i></td><td style=\"text-align: right;\">       2233</td><td>Sixth Concession at Montgomery </td><td>Tuesday      </td><td>EASTBOUND  </td><td>September</td><td style=\"text-align: right;\">                    0</td><td style=\"text-align: right;\">                     0</td><td>PAT1 LASALLE 25 WEEKDAY 1 EAST</td><td>LASALLE 25  </td><td>2024-09-03    </td><td style=\"text-align: right;\">            12</td><td>True            </td><td>True             </td><td style=\"text-align: right;\">                       11</td><td>Regular   </td><td style=\"text-align: right;\">     8024</td><td>True                 </td><td>2024-09-03 12:11:40 PM</td><td style=\"text-align: right;\">        4474288</td><td>2024-09-03 11:54:25 AM</td><td style=\"text-align: right;\">                1</td><td style=\"text-align: right;\">              0</td><td style=\"text-align: right;\">               0</td><td style=\"text-align: right;\">                   2</td><td style=\"text-align: right;\">                    5</td></tr>\n",
       "<tr><td><i style='opacity: 0.6'>4</i></td><td style=\"text-align: right;\">       2231</td><td>Heritage at Blackthorn         </td><td>Tuesday      </td><td>EASTBOUND  </td><td>September</td><td style=\"text-align: right;\">                    0</td><td style=\"text-align: right;\">                     0</td><td>PAT1 LASALLE 25 WEEKDAY 1 EAST</td><td>LASALLE 25  </td><td>2024-09-03    </td><td style=\"text-align: right;\">            12</td><td>True            </td><td>True             </td><td style=\"text-align: right;\">                       11</td><td>Regular   </td><td style=\"text-align: right;\">     8024</td><td>True                 </td><td>2024-09-03 12:09:54 PM</td><td style=\"text-align: right;\">        4474288</td><td>2024-09-03 11:54:25 AM</td><td style=\"text-align: right;\">                1</td><td style=\"text-align: right;\">              0</td><td style=\"text-align: right;\">               0</td><td style=\"text-align: right;\">                   2</td><td style=\"text-align: right;\">                    5</td></tr>\n",
       "</tbody>\n",
       "</table>"
      ],
      "text/plain": [
       "  #    Stop Code  Stop Name                        Day of Week    Direction    Month        Passengers In (bin)    Passengers Out (bin)  Pattern Name                    Route Name    Transit Date      Transit Hour  Trip In Filter    Trip Out Filter      Trip Start Transit Hour  TripType      Vehicle  Vehicle Name Filter    ActualTime                Daily Trip ID  Start Trip Time           Number of Trips    Passengers In    Passengers Out    Trip Passengers In    Trip Passengers Out\n",
       "  0         2232  Heritage at Sixth Concession     Tuesday        EASTBOUND    September                      1                       0  PAT1 LASALLE 25 WEEKDAY 1 EAST  LASALLE 25    2024-09-03                  12  True              True                                      11  Regular          8024  True                   2024-09-03 12:10:34 PM          4474288  2024-09-03 11:54:25 AM                  1                1                 0                     2                      5\n",
       "  1         2168  Vollmer Centre Front Entrance    Tuesday        EASTBOUND    September                      1                       0  PAT1 LASALLE 25 WEEKDAY 1 EAST  LASALLE 25    2024-09-03                  11  True              True                                      11  Regular          8024  True                   2024-09-03 11:54:25 AM          4474288  2024-09-03 11:54:25 AM                  1                1                 0                     2                      5\n",
       "  2         2263  St Clair College Front Entrance  Tuesday        EASTBOUND    September                      0                       5  PAT1 LASALLE 25 WEEKDAY 1 EAST  LASALLE 25    2024-09-03                  12  True              True                                      11  Regular          8024  True                   2024-09-03 12:16:00 PM          4474288  2024-09-03 11:54:25 AM                  1                0                 5                     2                      5\n",
       "  3         2233  Sixth Concession at Montgomery   Tuesday        EASTBOUND    September                      0                       0  PAT1 LASALLE 25 WEEKDAY 1 EAST  LASALLE 25    2024-09-03                  12  True              True                                      11  Regular          8024  True                   2024-09-03 12:11:40 PM          4474288  2024-09-03 11:54:25 AM                  1                0                 0                     2                      5\n",
       "  4         2231  Heritage at Blackthorn           Tuesday        EASTBOUND    September                      0                       0  PAT1 LASALLE 25 WEEKDAY 1 EAST  LASALLE 25    2024-09-03                  12  True              True                                      11  Regular          8024  True                   2024-09-03 12:09:54 PM          4474288  2024-09-03 11:54:25 AM                  1                0                 0                     2                      5"
      ]
     },
     "execution_count": 9,
     "metadata": {},
     "output_type": "execute_result"
    }
   ],
   "source": [
    "dfs_dict['September 2024'].head(5)"
   ]
  },
  {
   "cell_type": "code",
   "execution_count": 10,
   "metadata": {},
   "outputs": [
    {
     "data": {
      "text/plain": [
       "['TUNNEL',\n",
       " 'CROSSTOWN 2',\n",
       " '755',\n",
       " '758',\n",
       " '751',\n",
       " 'PARENT 14',\n",
       " 'DOMINION 5',\n",
       " '518 EXPRESS',\n",
       " 'ROUTE 605',\n",
       " '705',\n",
       " 'LAUZON 10',\n",
       " 'DOUGALL 6',\n",
       " '760',\n",
       " 'TRANSWAY 1C',\n",
       " 'WALKERVILLE 8',\n",
       " '709',\n",
       " '418 EXPRESS',\n",
       " '708',\n",
       " 'LASALLE 25',\n",
       " '711',\n",
       " '706',\n",
       " 'LTW ROUTE 42',\n",
       " '754',\n",
       " '707',\n",
       " '710',\n",
       " 'CENTRAL 3',\n",
       " 'TRANSWAY 1A',\n",
       " 'OTTAWA 4',\n",
       " '702',\n",
       " 'SOUTH WINDSOR 7',\n",
       " '756']"
      ]
     },
     "execution_count": 10,
     "metadata": {},
     "output_type": "execute_result"
    }
   ],
   "source": [
    "dfs_dict['April 2024']['Route Name'].unique()"
   ]
  },
  {
   "cell_type": "markdown",
   "metadata": {},
   "source": [
    "# Change in all the dfs DOMINION 5 for ROUTE 115"
   ]
  },
  {
   "cell_type": "code",
   "execution_count": 11,
   "metadata": {},
   "outputs": [],
   "source": [
    "for key, df in dfs_dict.items():\n",
    "    df['Route Name'] = df['Route Name'].apply(lambda x: 'ROUTE 115' if x == 'DOMINION 5' else x)"
   ]
  },
  {
   "cell_type": "markdown",
   "metadata": {},
   "source": [
    "# Remove not useful columns\n",
    "\n",
    "* Day of week, bins, transit hour, transit date, trip in, trip out, trip start transit hour, triptype, vehicle filter, number of trips, trip pass in, trip pass out"
   ]
  },
  {
   "cell_type": "code",
   "execution_count": 12,
   "metadata": {},
   "outputs": [
    {
     "data": {
      "text/html": [
       "<table>\n",
       "<thead>\n",
       "<tr><th>#                            </th><th style=\"text-align: right;\">  Stop Code</th><th>Stop Name                  </th><th>Direction  </th><th>Route Name  </th><th style=\"text-align: right;\">  Vehicle</th><th>ActualTime           </th><th style=\"text-align: right;\">  Daily Trip ID</th><th>Start Trip Time      </th><th style=\"text-align: right;\">  Passengers In</th><th style=\"text-align: right;\">  Passengers Out</th></tr>\n",
       "</thead>\n",
       "<tbody>\n",
       "<tr><td><i style='opacity: 0.6'>0</i></td><td style=\"text-align: right;\">       2261</td><td>Devonshire Mall at Cineplex</td><td>NORTHBOUND </td><td>TRANSWAY 1A </td><td style=\"text-align: right;\">     8054</td><td>2024-03-22 4:31:25 PM</td><td style=\"text-align: right;\">        4220675</td><td>2024-03-22 4:31:25 PM</td><td style=\"text-align: right;\">             21</td><td style=\"text-align: right;\">               0</td></tr>\n",
       "<tr><td><i style='opacity: 0.6'>1</i></td><td style=\"text-align: right;\">       1046</td><td>Howard at Grand Marais     </td><td>NORTHBOUND </td><td>TRANSWAY 1A </td><td style=\"text-align: right;\">     8054</td><td>2024-03-22 4:38:49 PM</td><td style=\"text-align: right;\">        4220675</td><td>2024-03-22 4:31:25 PM</td><td style=\"text-align: right;\">              3</td><td style=\"text-align: right;\">               0</td></tr>\n",
       "<tr><td><i style='opacity: 0.6'>2</i></td><td style=\"text-align: right;\">       1042</td><td>Howard at Edinborough      </td><td>NORTHBOUND </td><td>TRANSWAY 1A </td><td style=\"text-align: right;\">     8054</td><td>2024-03-22 4:39:54 PM</td><td style=\"text-align: right;\">        4220675</td><td>2024-03-22 4:31:25 PM</td><td style=\"text-align: right;\">              2</td><td style=\"text-align: right;\">               1</td></tr>\n",
       "<tr><td><i style='opacity: 0.6'>3</i></td><td style=\"text-align: right;\">       1039</td><td>Howard at Hildegard        </td><td>NORTHBOUND </td><td>TRANSWAY 1A </td><td style=\"text-align: right;\">     8054</td><td>2024-03-22 4:41:21 PM</td><td style=\"text-align: right;\">        4220675</td><td>2024-03-22 4:31:25 PM</td><td style=\"text-align: right;\">              2</td><td style=\"text-align: right;\">               0</td></tr>\n",
       "<tr><td><i style='opacity: 0.6'>4</i></td><td style=\"text-align: right;\">       1041</td><td>Howard at McDougall        </td><td>NORTHBOUND </td><td>TRANSWAY 1A </td><td style=\"text-align: right;\">     8054</td><td>2024-03-22 4:40:36 PM</td><td style=\"text-align: right;\">        4220675</td><td>2024-03-22 4:31:25 PM</td><td style=\"text-align: right;\">              1</td><td style=\"text-align: right;\">               0</td></tr>\n",
       "</tbody>\n",
       "</table>"
      ],
      "text/plain": [
       "  #    Stop Code  Stop Name                    Direction    Route Name      Vehicle  ActualTime               Daily Trip ID  Start Trip Time          Passengers In    Passengers Out\n",
       "  0         2261  Devonshire Mall at Cineplex  NORTHBOUND   TRANSWAY 1A        8054  2024-03-22 4:31:25 PM          4220675  2024-03-22 4:31:25 PM               21                 0\n",
       "  1         1046  Howard at Grand Marais       NORTHBOUND   TRANSWAY 1A        8054  2024-03-22 4:38:49 PM          4220675  2024-03-22 4:31:25 PM                3                 0\n",
       "  2         1042  Howard at Edinborough        NORTHBOUND   TRANSWAY 1A        8054  2024-03-22 4:39:54 PM          4220675  2024-03-22 4:31:25 PM                2                 1\n",
       "  3         1039  Howard at Hildegard          NORTHBOUND   TRANSWAY 1A        8054  2024-03-22 4:41:21 PM          4220675  2024-03-22 4:31:25 PM                2                 0\n",
       "  4         1041  Howard at McDougall          NORTHBOUND   TRANSWAY 1A        8054  2024-03-22 4:40:36 PM          4220675  2024-03-22 4:31:25 PM                1                 0"
      ]
     },
     "execution_count": 12,
     "metadata": {},
     "output_type": "execute_result"
    }
   ],
   "source": [
    "for key, _ in dfs_dict.items():\n",
    "    # Use the `drop` method in Vaex to drop the columns\n",
    "    if 'Day of Week' in dfs_dict[key].column_names:\n",
    "        dfs_dict[key] = dfs_dict[key].drop(['Day of Week', 'Passengers In (bin)', 'Passengers Out (bin)', 'Transit Date', 'Transit Hour',\n",
    "                                            'Trip In Filter', 'Trip Out Filter', 'Trip Start Transit Hour', 'TripType', 'Month',\n",
    "                                            'Vehicle Name Filter', 'Number of Trips', 'Trip Passengers In', 'Trip Passengers Out',\n",
    "                                            'Pattern Name'])\n",
    "\n",
    "dfs_dict['March 2024'].head(5)"
   ]
  },
  {
   "cell_type": "markdown",
   "metadata": {},
   "source": [
    "# Calculate Passenger Transfer"
   ]
  },
  {
   "cell_type": "code",
   "execution_count": 13,
   "metadata": {},
   "outputs": [],
   "source": [
    "for key, df in dfs_dict.items():\n",
    "    df['Passengers Transfer'] = df['Passengers In'] - df['Passengers Out']"
   ]
  },
  {
   "cell_type": "markdown",
   "metadata": {},
   "source": [
    "# Add Actual Bus Occupancy column"
   ]
  },
  {
   "cell_type": "code",
   "execution_count": 14,
   "metadata": {},
   "outputs": [],
   "source": [
    "def net_passenger(data):\n",
    "    # Convert Vaex DataFrame to Pandas DataFrame\n",
    "    data = data.to_pandas_df()\n",
    "\n",
    "    # Sort the DataFrame by 'Route Name', 'Daily Trip ID', and 'ActualTime'\n",
    "    data = data.sort_values(by=['Route Name', 'Daily Trip ID', 'ActualTime'])\n",
    "\n",
    "    # Calculate 'Passengers Transfer'\n",
    "    data['Passengers Transfer'] = data['Passengers In'] - data['Passengers Out']\n",
    "\n",
    "    # Calculate cumulative sum of 'Passengers Transfer' for each 'Route Name' and 'Daily Trip ID'\n",
    "    data['Actual Bus Occupancy'] = data.groupby(['Route Name', 'Daily Trip ID'])['Passengers Transfer'].cumsum()\n",
    "\n",
    "    # Group the data once to avoid repeated filtering inside the loop\n",
    "    grouped = data.groupby('Daily Trip ID', group_keys=False)\n",
    "\n",
    "    # Process each group\n",
    "    def process_trip(trip_data):\n",
    "        # Get final occupancy\n",
    "        final_occupancy = trip_data['Actual Bus Occupancy'].iloc[-1]\n",
    "        passengers_transfer = trip_data['Passengers Transfer'].values\n",
    "        occupancy_cumsum = trip_data['Actual Bus Occupancy'].values\n",
    "\n",
    "        # Adjust based on final occupancy\n",
    "        if final_occupancy < 0:\n",
    "            # Find minimum negative value and adjust the first occurrence\n",
    "            min_value = occupancy_cumsum.min()\n",
    "            first_negative_idx = occupancy_cumsum.argmin()  # Find position in the array\n",
    "            passengers_transfer[first_negative_idx] += abs(min_value)\n",
    "\n",
    "        elif final_occupancy > 0:\n",
    "            # Find the first occurrence of maximum occupancy and adjust\n",
    "            max_value = occupancy_cumsum.max()\n",
    "            first_max_idx = occupancy_cumsum.argmax()  # Find position in the array\n",
    "            passengers_transfer[first_max_idx] -= final_occupancy\n",
    "\n",
    "        # Update adjusted cumulative sum\n",
    "        adjusted_cumsum = passengers_transfer.cumsum()\n",
    "\n",
    "        # Ensure no negative occupancy values remain\n",
    "        while (adjusted_cumsum < 0).any():\n",
    "            min_value = adjusted_cumsum.min()\n",
    "            first_negative_idx = (adjusted_cumsum < 0).argmax()  # Find position in the array\n",
    "            passengers_transfer[first_negative_idx] += abs(min_value)\n",
    "            adjusted_cumsum = passengers_transfer.cumsum()\n",
    "\n",
    "        # Update the DataFrame with the adjusted values\n",
    "        trip_data['Passengers Transfer'] = passengers_transfer\n",
    "        trip_data['Adjusted Bus Occupancy'] = adjusted_cumsum\n",
    "\n",
    "        return trip_data\n",
    "\n",
    "    # Apply the processing function to each group and collect the results\n",
    "    data = grouped.apply(process_trip, include_groups=False)\n",
    "\n",
    "    # Replace Actual Bus Occupancy with the adjusted and remove the temporary column\n",
    "    data['Actual Bus Occupancy'] = data['Adjusted Bus Occupancy']\n",
    "    data = data.drop(columns=['Adjusted Bus Occupancy'])\n",
    "\n",
    "    # Convert back to Vaex DataFrame\n",
    "    data_vaex = vaex.from_pandas(data)\n",
    "\n",
    "    return data_vaex\n"
   ]
  },
  {
   "cell_type": "code",
   "execution_count": 15,
   "metadata": {},
   "outputs": [
    {
     "name": "stdout",
     "output_type": "stream",
     "text": [
      "Processing: October 2023 data\n",
      "Processing: Jan 2024 data\n",
      "Processing: October 2024 data\n",
      "Processing: July 2024 data\n",
      "Processing: June 2024 data\n",
      "Processing: September 2024 data\n",
      "Processing: August 2024 data\n",
      "Processing: December 2023 data\n",
      "Processing: Feb 2024 data\n",
      "Processing: November 2023 data\n",
      "Processing: March 2024 data\n",
      "Processing: April 2024 data\n",
      "Processing: May 2024 data\n"
     ]
    }
   ],
   "source": [
    "for key, df in dfs_dict.items():\n",
    "    print(f'Processing: {key} data')\n",
    "    dfs_dict[key] = net_passenger(df)"
   ]
  },
  {
   "cell_type": "markdown",
   "metadata": {},
   "source": [
    "# Create a daily trip sequence, bus order during the day"
   ]
  },
  {
   "cell_type": "code",
   "execution_count": 16,
   "metadata": {},
   "outputs": [],
   "source": [
    "def assign_daily_order_trip_id_by_route_time_direction_vaex(data):\n",
    "    # Convert Vaex DataFrame to Pandas\n",
    "    df = data.to_pandas_df()\n",
    "\n",
    "    # Parse datetime explicitly with AM/PM handling\n",
    "    df['Start Trip Time'] = pd.to_datetime(\n",
    "        df['Start Trip Time'], \n",
    "        format='%Y-%m-%d %I:%M:%S %p',  # Explicitly account for AM/PM\n",
    "        errors='coerce'  # Handle invalid timestamps gracefully\n",
    "    )\n",
    "\n",
    "    # Subtract 4 hours to align trips with the same \"Business Day\"\n",
    "    df['Adjusted Start Time'] = df['Start Trip Time'] - timedelta(hours=4)\n",
    "\n",
    "    # Extract the adjusted date for grouping\n",
    "    df['Adjusted Date'] = df['Adjusted Start Time'].dt.date  # Keeps datetime.date format\n",
    "\n",
    "    # Sort by Route Name, Direction, Adjusted Date, and Start Trip Time\n",
    "    df = df.sort_values(by=['Route Name', 'Direction', 'Adjusted Date', 'Start Trip Time']).reset_index(drop=True)\n",
    "\n",
    "    # Assign daily_order_trip_id by grouping on Route Name, Direction, Adjusted Date, and Start Trip Time\n",
    "    df['daily_order_trip_id'] = (\n",
    "        df.groupby(['Adjusted Date', 'Route Name', 'Direction'])['Start Trip Time']\n",
    "        .transform('rank', method='dense').astype(int)\n",
    "    )\n",
    "\n",
    "    # Rename Adjusted Date to Business Day without changing its format\n",
    "    df = df.rename({'Adjusted Date': 'Business Day'}, axis=1)\n",
    "\n",
    "    # Drop temporary columns if not needed\n",
    "    df = df.drop(columns=['Adjusted Start Time'])\n",
    "    \n",
    "    # Convert Business Day to pandas datetime before formatting\n",
    "    df['Business Day'] = pd.to_datetime(df['Business Day'])  # Convert datetime.date to pandas datetime\n",
    "    df['Business Day'] = df['Business Day'].dt.strftime('%Y-%m-%d')  # Format as string in 'YYYY-MM-DD'\n",
    "\n",
    "    # Convert back to Vaex DataFrame\n",
    "    df = vaex.from_pandas(df)\n",
    "    df['Start Trip Time'] = df['Start Trip Time'].dt.strftime('%Y-%m-%d %H:%M:%S')\n",
    "    return df\n",
    "\n"
   ]
  },
  {
   "cell_type": "code",
   "execution_count": 17,
   "metadata": {},
   "outputs": [
    {
     "name": "stdout",
     "output_type": "stream",
     "text": [
      "Processing: October 2023 data\n",
      "Processing: Jan 2024 data\n",
      "Processing: October 2024 data\n",
      "Processing: July 2024 data\n",
      "Processing: June 2024 data\n",
      "Processing: September 2024 data\n",
      "Processing: August 2024 data\n",
      "Processing: December 2023 data\n",
      "Processing: Feb 2024 data\n",
      "Processing: November 2023 data\n",
      "Processing: March 2024 data\n",
      "Processing: April 2024 data\n",
      "Processing: May 2024 data\n"
     ]
    }
   ],
   "source": [
    "for key, df in dfs_dict.items():\n",
    "    print(f'Processing: {key} data')\n",
    "    dfs_dict[key] = assign_daily_order_trip_id_by_route_time_direction_vaex(df)"
   ]
  },
  {
   "cell_type": "code",
   "execution_count": 18,
   "metadata": {},
   "outputs": [],
   "source": [
    "#dfs_dict['March 2024'].head(5)"
   ]
  },
  {
   "cell_type": "markdown",
   "metadata": {},
   "source": [
    "# Convert Actual Time column to be in the 24H format"
   ]
  },
  {
   "cell_type": "code",
   "execution_count": 19,
   "metadata": {},
   "outputs": [],
   "source": [
    "def convert_to_24h(df):\n",
    "    # Convert Vaex DataFrame to Pandas DataFrame\n",
    "    pandas_df = df.to_pandas_df()\n",
    "    \n",
    "    # Ensure 'ActualTime' is datetime and convert to 24-hour format\n",
    "    pandas_df['ActualTime'] = pd.to_datetime(pandas_df['ActualTime'], format='%Y-%m-%d %I:%M:%S %p', errors='coerce')\n",
    "    pandas_df['ActualTime'] = pandas_df['ActualTime'].dt.strftime('%Y-%m-%d %H:%M:%S')\n",
    "    \n",
    "    # Convert back to Vaex DataFrame\n",
    "    vaex_df = vaex.from_pandas(pandas_df)\n",
    "    return vaex_df\n"
   ]
  },
  {
   "cell_type": "code",
   "execution_count": 20,
   "metadata": {},
   "outputs": [
    {
     "name": "stdout",
     "output_type": "stream",
     "text": [
      "Processing: October 2023 data\n",
      "Processing: Jan 2024 data\n",
      "Processing: October 2024 data\n",
      "Processing: July 2024 data\n",
      "Processing: June 2024 data\n",
      "Processing: September 2024 data\n",
      "Processing: August 2024 data\n",
      "Processing: December 2023 data\n",
      "Processing: Feb 2024 data\n",
      "Processing: November 2023 data\n",
      "Processing: March 2024 data\n",
      "Processing: April 2024 data\n",
      "Processing: May 2024 data\n"
     ]
    }
   ],
   "source": [
    "for key, df in dfs_dict.items():\n",
    "    print(f'Processing: {key} data')\n",
    "    dfs_dict[key] = convert_to_24h(df)"
   ]
  },
  {
   "cell_type": "code",
   "execution_count": 21,
   "metadata": {},
   "outputs": [],
   "source": [
    "#dfs_dict['December 2023'].head(5)"
   ]
  },
  {
   "cell_type": "markdown",
   "metadata": {},
   "source": [
    "# Remove rows that are not in the direction map"
   ]
  },
  {
   "cell_type": "code",
   "execution_count": 22,
   "metadata": {},
   "outputs": [],
   "source": [
    "direction_map = {'TRANSWAY 1A': {0: 'NORTHBOUND', 1: 'SOUTHBOUND'},\n",
    " 'TRANSWAY 1C': {1: 'EASTBOUND', 0: 'WESTBOUND'},\n",
    " 'CROSSTOWN 2': {0: 'WESTBOUND', 1: 'EASTBOUND'},\n",
    " 'CENTRAL 3': {1: 'EASTBOUND', 0: 'WESTBOUND'},\n",
    " 'OTTAWA 4': {0: 'WESTBOUND', 1: 'EASTBOUND'},\n",
    " 'DOUGALL 6': {1: 'SOUTHBOUND', 0: 'NORTHBOUND'},\n",
    " 'WALKERVILLE 8': {1: 'SOUTHBOUND', 0: 'NORTHBOUND'},\n",
    " 'PARENT 14': {0: 'NORTHBOUND', 1: 'SOUTHBOUND'},\n",
    " 'TUNNEL': {1: 'SOUTHBOUND', 0: 'NORTHBOUND'},\n",
    " 'SOUTH WINDSOR 7': {0: 'WESTBOUND', 1: 'EASTBOUND'},\n",
    " 'LAUZON 10': {1: 'SOUTHBOUND', 0: 'NORTHBOUND'},\n",
    " 'LASALLE 25': {0: 'WESTBOUND', 1: 'EASTBOUND'},\n",
    " 'LTW ROUTE 42': {1: 'SOUTHBOUND', 0: 'NORTHBOUND'},\n",
    " '518 EXPRESS': {0: 'WESTBOUND', 1: 'EASTBOUND'},\n",
    " 'ROUTE 605': {0: 'NORTHBOUND', 1: 'SOUTHBOUND'},\n",
    " '418 EXPRESS': {0: 'WESTBOUND', 1: 'EASTBOUND'},\n",
    " 'ROUTE 115': {0: 'NORTHBOUND', 1: 'SOUTHBOUND'}}"
   ]
  },
  {
   "cell_type": "code",
   "execution_count": 23,
   "metadata": {},
   "outputs": [],
   "source": [
    "routes = [route for route in direction_map.keys()]"
   ]
  },
  {
   "cell_type": "code",
   "execution_count": 24,
   "metadata": {},
   "outputs": [],
   "source": [
    "for key, df in dfs_dict.items():\n",
    "    dfs_dict[key] = df[df['Route Name'].isin(routes)]"
   ]
  },
  {
   "cell_type": "markdown",
   "metadata": {},
   "source": [
    "# Concatenate the latitude and longitud columns to the datasets"
   ]
  },
  {
   "cell_type": "code",
   "execution_count": 25,
   "metadata": {},
   "outputs": [
    {
     "data": {
      "text/html": [
       "<div>\n",
       "<style scoped>\n",
       "    .dataframe tbody tr th:only-of-type {\n",
       "        vertical-align: middle;\n",
       "    }\n",
       "\n",
       "    .dataframe tbody tr th {\n",
       "        vertical-align: top;\n",
       "    }\n",
       "\n",
       "    .dataframe thead th {\n",
       "        text-align: right;\n",
       "    }\n",
       "</style>\n",
       "<table border=\"1\" class=\"dataframe\">\n",
       "  <thead>\n",
       "    <tr style=\"text-align: right;\">\n",
       "      <th></th>\n",
       "      <th>route_long_name</th>\n",
       "      <th>stop_name</th>\n",
       "      <th>stop_code</th>\n",
       "      <th>stop_lat</th>\n",
       "      <th>stop_lon</th>\n",
       "      <th>arrival_time</th>\n",
       "      <th>departure_time</th>\n",
       "      <th>stop_sequence</th>\n",
       "      <th>trip_id</th>\n",
       "      <th>direction_id</th>\n",
       "    </tr>\n",
       "  </thead>\n",
       "  <tbody>\n",
       "    <tr>\n",
       "      <th>0</th>\n",
       "      <td>TRANSWAY 1A</td>\n",
       "      <td>Windsor Transit Terminal</td>\n",
       "      <td>1000</td>\n",
       "      <td>42.317486</td>\n",
       "      <td>-83.043368</td>\n",
       "      <td>17:50:00</td>\n",
       "      <td>17:50:00</td>\n",
       "      <td>1</td>\n",
       "      <td>1133706</td>\n",
       "      <td>1</td>\n",
       "    </tr>\n",
       "    <tr>\n",
       "      <th>1</th>\n",
       "      <td>TRANSWAY 1A</td>\n",
       "      <td>Ouellette at Chatham</td>\n",
       "      <td>1002</td>\n",
       "      <td>42.317882</td>\n",
       "      <td>-83.039374</td>\n",
       "      <td>17:52:00</td>\n",
       "      <td>17:52:00</td>\n",
       "      <td>2</td>\n",
       "      <td>1133706</td>\n",
       "      <td>1</td>\n",
       "    </tr>\n",
       "    <tr>\n",
       "      <th>2</th>\n",
       "      <td>TRANSWAY 1A</td>\n",
       "      <td>Ouellette at Park</td>\n",
       "      <td>1004</td>\n",
       "      <td>42.315935</td>\n",
       "      <td>-83.038091</td>\n",
       "      <td>17:53:00</td>\n",
       "      <td>17:53:00</td>\n",
       "      <td>3</td>\n",
       "      <td>1133706</td>\n",
       "      <td>1</td>\n",
       "    </tr>\n",
       "    <tr>\n",
       "      <th>3</th>\n",
       "      <td>TRANSWAY 1A</td>\n",
       "      <td>Ouellette at Wyandotte</td>\n",
       "      <td>1006</td>\n",
       "      <td>42.313499</td>\n",
       "      <td>-83.036628</td>\n",
       "      <td>17:54:00</td>\n",
       "      <td>17:54:00</td>\n",
       "      <td>4</td>\n",
       "      <td>1133706</td>\n",
       "      <td>1</td>\n",
       "    </tr>\n",
       "    <tr>\n",
       "      <th>4</th>\n",
       "      <td>TRANSWAY 1A</td>\n",
       "      <td>Ouellette at Elliott</td>\n",
       "      <td>1008</td>\n",
       "      <td>42.311320</td>\n",
       "      <td>-83.035171</td>\n",
       "      <td>17:59:00</td>\n",
       "      <td>17:59:00</td>\n",
       "      <td>5</td>\n",
       "      <td>1133706</td>\n",
       "      <td>1</td>\n",
       "    </tr>\n",
       "  </tbody>\n",
       "</table>\n",
       "</div>"
      ],
      "text/plain": [
       "  route_long_name                 stop_name stop_code   stop_lat   stop_lon  \\\n",
       "0     TRANSWAY 1A  Windsor Transit Terminal      1000  42.317486 -83.043368   \n",
       "1     TRANSWAY 1A      Ouellette at Chatham      1002  42.317882 -83.039374   \n",
       "2     TRANSWAY 1A         Ouellette at Park      1004  42.315935 -83.038091   \n",
       "3     TRANSWAY 1A    Ouellette at Wyandotte      1006  42.313499 -83.036628   \n",
       "4     TRANSWAY 1A      Ouellette at Elliott      1008  42.311320 -83.035171   \n",
       "\n",
       "  arrival_time departure_time  stop_sequence  trip_id  direction_id  \n",
       "0     17:50:00       17:50:00              1  1133706             1  \n",
       "1     17:52:00       17:52:00              2  1133706             1  \n",
       "2     17:53:00       17:53:00              3  1133706             1  \n",
       "3     17:54:00       17:54:00              4  1133706             1  \n",
       "4     17:59:00       17:59:00              5  1133706             1  "
      ]
     },
     "execution_count": 25,
     "metadata": {},
     "output_type": "execute_result"
    }
   ],
   "source": [
    "expected.head(5)"
   ]
  },
  {
   "cell_type": "code",
   "execution_count": 26,
   "metadata": {},
   "outputs": [
    {
     "data": {
      "text/html": [
       "<table>\n",
       "<thead>\n",
       "<tr><th>#                            </th><th style=\"text-align: right;\">  Stop Code</th><th>Stop Name                  </th><th>Direction  </th><th>Route Name  </th><th style=\"text-align: right;\">  Vehicle</th><th>ActualTime         </th><th>Start Trip Time    </th><th style=\"text-align: right;\">  Passengers In</th><th style=\"text-align: right;\">  Passengers Out</th><th style=\"text-align: right;\">  Passengers Transfer</th><th style=\"text-align: right;\">  Actual Bus Occupancy</th><th>Business Day  </th><th style=\"text-align: right;\">  daily_order_trip_id</th></tr>\n",
       "</thead>\n",
       "<tbody>\n",
       "<tr><td><i style='opacity: 0.6'>0</i></td><td style=\"text-align: right;\">       1834</td><td>Hotel Dieu Grace Healthcare</td><td>EASTBOUND  </td><td>418 EXPRESS </td><td style=\"text-align: right;\">     8069</td><td>2024-03-01 06:41:52</td><td>2024-03-01 06:41:52</td><td style=\"text-align: right;\">              1</td><td style=\"text-align: right;\">               0</td><td style=\"text-align: right;\">                    1</td><td style=\"text-align: right;\">                     1</td><td>2024-03-01    </td><td style=\"text-align: right;\">                    1</td></tr>\n",
       "<tr><td><i style='opacity: 0.6'>1</i></td><td style=\"text-align: right;\">       2090</td><td>Prince at College          </td><td>EASTBOUND  </td><td>418 EXPRESS </td><td style=\"text-align: right;\">     8069</td><td>2024-03-01 06:46:41</td><td>2024-03-01 06:41:52</td><td style=\"text-align: right;\">              0</td><td style=\"text-align: right;\">               0</td><td style=\"text-align: right;\">                    0</td><td style=\"text-align: right;\">                     1</td><td>2024-03-01    </td><td style=\"text-align: right;\">                    1</td></tr>\n",
       "<tr><td><i style='opacity: 0.6'>2</i></td><td style=\"text-align: right;\">       1215</td><td>Sandwich at South          </td><td>EASTBOUND  </td><td>418 EXPRESS </td><td style=\"text-align: right;\">     8069</td><td>2024-03-01 06:48:27</td><td>2024-03-01 06:41:52</td><td style=\"text-align: right;\">              1</td><td style=\"text-align: right;\">               0</td><td style=\"text-align: right;\">                    1</td><td style=\"text-align: right;\">                     2</td><td>2024-03-01    </td><td style=\"text-align: right;\">                    1</td></tr>\n",
       "<tr><td><i style='opacity: 0.6'>3</i></td><td style=\"text-align: right;\">       1219</td><td>Sandwich at Brock          </td><td>EASTBOUND  </td><td>418 EXPRESS </td><td style=\"text-align: right;\">     8069</td><td>2024-03-01 06:49:29</td><td>2024-03-01 06:41:52</td><td style=\"text-align: right;\">              1</td><td style=\"text-align: right;\">               0</td><td style=\"text-align: right;\">                    1</td><td style=\"text-align: right;\">                     3</td><td>2024-03-01    </td><td style=\"text-align: right;\">                    1</td></tr>\n",
       "<tr><td><i style='opacity: 0.6'>4</i></td><td style=\"text-align: right;\">       1222</td><td>Wyandotte at Mill          </td><td>EASTBOUND  </td><td>418 EXPRESS </td><td style=\"text-align: right;\">     8069</td><td>2024-03-01 06:51:03</td><td>2024-03-01 06:41:52</td><td style=\"text-align: right;\">              4</td><td style=\"text-align: right;\">               0</td><td style=\"text-align: right;\">                    4</td><td style=\"text-align: right;\">                     7</td><td>2024-03-01    </td><td style=\"text-align: right;\">                    1</td></tr>\n",
       "</tbody>\n",
       "</table>"
      ],
      "text/plain": [
       "  #    Stop Code  Stop Name                    Direction    Route Name      Vehicle  ActualTime           Start Trip Time        Passengers In    Passengers Out    Passengers Transfer    Actual Bus Occupancy  Business Day      daily_order_trip_id\n",
       "  0         1834  Hotel Dieu Grace Healthcare  EASTBOUND    418 EXPRESS        8069  2024-03-01 06:41:52  2024-03-01 06:41:52                1                 0                      1                       1  2024-03-01                          1\n",
       "  1         2090  Prince at College            EASTBOUND    418 EXPRESS        8069  2024-03-01 06:46:41  2024-03-01 06:41:52                0                 0                      0                       1  2024-03-01                          1\n",
       "  2         1215  Sandwich at South            EASTBOUND    418 EXPRESS        8069  2024-03-01 06:48:27  2024-03-01 06:41:52                1                 0                      1                       2  2024-03-01                          1\n",
       "  3         1219  Sandwich at Brock            EASTBOUND    418 EXPRESS        8069  2024-03-01 06:49:29  2024-03-01 06:41:52                1                 0                      1                       3  2024-03-01                          1\n",
       "  4         1222  Wyandotte at Mill            EASTBOUND    418 EXPRESS        8069  2024-03-01 06:51:03  2024-03-01 06:41:52                4                 0                      4                       7  2024-03-01                          1"
      ]
     },
     "execution_count": 26,
     "metadata": {},
     "output_type": "execute_result"
    }
   ],
   "source": [
    "df = dfs_dict['March 2024'].copy()\n",
    "df.head(5)"
   ]
  },
  {
   "cell_type": "code",
   "execution_count": 27,
   "metadata": {},
   "outputs": [
    {
     "data": {
      "text/html": [
       "<table>\n",
       "<thead>\n",
       "<tr><th>#                            </th><th style=\"text-align: right;\">  stop_code</th><th style=\"text-align: right;\">  stop_lat</th><th style=\"text-align: right;\">  stop_lon</th></tr>\n",
       "</thead>\n",
       "<tbody>\n",
       "<tr><td><i style='opacity: 0.6'>0</i></td><td style=\"text-align: right;\">       1000</td><td style=\"text-align: right;\">   42.3175</td><td style=\"text-align: right;\">  -83.0434</td></tr>\n",
       "<tr><td><i style='opacity: 0.6'>1</i></td><td style=\"text-align: right;\">       1002</td><td style=\"text-align: right;\">   42.3179</td><td style=\"text-align: right;\">  -83.0394</td></tr>\n",
       "<tr><td><i style='opacity: 0.6'>2</i></td><td style=\"text-align: right;\">       1004</td><td style=\"text-align: right;\">   42.3159</td><td style=\"text-align: right;\">  -83.0381</td></tr>\n",
       "<tr><td><i style='opacity: 0.6'>3</i></td><td style=\"text-align: right;\">       1006</td><td style=\"text-align: right;\">   42.3135</td><td style=\"text-align: right;\">  -83.0366</td></tr>\n",
       "<tr><td><i style='opacity: 0.6'>4</i></td><td style=\"text-align: right;\">       1008</td><td style=\"text-align: right;\">   42.3113</td><td style=\"text-align: right;\">  -83.0352</td></tr>\n",
       "</tbody>\n",
       "</table>"
      ],
      "text/plain": [
       "  #    stop_code    stop_lat    stop_lon\n",
       "  0         1000     42.3175    -83.0434\n",
       "  1         1002     42.3179    -83.0394\n",
       "  2         1004     42.3159    -83.0381\n",
       "  3         1006     42.3135    -83.0366\n",
       "  4         1008     42.3113    -83.0352"
      ]
     },
     "execution_count": 27,
     "metadata": {},
     "output_type": "execute_result"
    }
   ],
   "source": [
    "expected = expected[expected['route_long_name'].isin(routes)]\n",
    "unique_stop_codes = expected.drop_duplicates(subset=['stop_code'], keep='first')[['stop_code', 'stop_lat', 'stop_lon']]\n",
    "unique_stop_codes = vaex.from_pandas(unique_stop_codes)\n",
    "unique_stop_codes.head(5)"
   ]
  },
  {
   "cell_type": "code",
   "execution_count": 28,
   "metadata": {},
   "outputs": [
    {
     "data": {
      "text/html": [
       "<table>\n",
       "<thead>\n",
       "<tr><th>#                            </th><th style=\"text-align: right;\">  Stop Code</th><th>Stop Name                  </th><th>Direction  </th><th>Route Name  </th><th style=\"text-align: right;\">  Vehicle</th><th>ActualTime         </th><th>Start Trip Time    </th><th style=\"text-align: right;\">  Passengers In</th><th style=\"text-align: right;\">  Passengers Out</th><th style=\"text-align: right;\">  Passengers Transfer</th><th style=\"text-align: right;\">  Actual Bus Occupancy</th><th>Business Day  </th><th style=\"text-align: right;\">  daily_order_trip_id</th><th>stop_code  </th><th>stop_lat   </th><th>stop_lon    </th></tr>\n",
       "</thead>\n",
       "<tbody>\n",
       "<tr><td><i style='opacity: 0.6'>0</i></td><td style=\"text-align: right;\">       1834</td><td>Hotel Dieu Grace Healthcare</td><td>EASTBOUND  </td><td>418 EXPRESS </td><td style=\"text-align: right;\">     8070</td><td>2024-06-03 06:42:25</td><td>2024-06-03 06:42:25</td><td style=\"text-align: right;\">              0</td><td style=\"text-align: right;\">               0</td><td style=\"text-align: right;\">                    0</td><td style=\"text-align: right;\">                     0</td><td>2024-06-03    </td><td style=\"text-align: right;\">                    1</td><td>1834       </td><td>42.286447  </td><td>-83.064606  </td></tr>\n",
       "<tr><td><i style='opacity: 0.6'>1</i></td><td style=\"text-align: right;\">       2090</td><td>Prince at College          </td><td>EASTBOUND  </td><td>418 EXPRESS </td><td style=\"text-align: right;\">     8070</td><td>2024-06-03 06:46:37</td><td>2024-06-03 06:42:25</td><td style=\"text-align: right;\">              0</td><td style=\"text-align: right;\">               0</td><td style=\"text-align: right;\">                    0</td><td style=\"text-align: right;\">                     0</td><td>2024-06-03    </td><td style=\"text-align: right;\">                    1</td><td>2090       </td><td>42.289898  </td><td>-83.075598  </td></tr>\n",
       "<tr><td><i style='opacity: 0.6'>2</i></td><td style=\"text-align: right;\">       9622</td><td>Peter at Chippawa          </td><td>EASTBOUND  </td><td>418 EXPRESS </td><td style=\"text-align: right;\">     8070</td><td>2024-06-03 06:48:30</td><td>2024-06-03 06:42:25</td><td style=\"text-align: right;\">              1</td><td style=\"text-align: right;\">               0</td><td style=\"text-align: right;\">                    1</td><td style=\"text-align: right;\">                     1</td><td>2024-06-03    </td><td style=\"text-align: right;\">                    1</td><td>--         </td><td>--         </td><td>--          </td></tr>\n",
       "<tr><td><i style='opacity: 0.6'>3</i></td><td style=\"text-align: right;\">       9623</td><td>Peter at Brock             </td><td>EASTBOUND  </td><td>418 EXPRESS </td><td style=\"text-align: right;\">     8070</td><td>2024-06-03 06:49:09</td><td>2024-06-03 06:42:25</td><td style=\"text-align: right;\">              0</td><td style=\"text-align: right;\">               0</td><td style=\"text-align: right;\">                    0</td><td style=\"text-align: right;\">                     1</td><td>2024-06-03    </td><td style=\"text-align: right;\">                    1</td><td>--         </td><td>--         </td><td>--          </td></tr>\n",
       "<tr><td><i style='opacity: 0.6'>4</i></td><td style=\"text-align: right;\">       1222</td><td>Wyandotte at Mill          </td><td>EASTBOUND  </td><td>418 EXPRESS </td><td style=\"text-align: right;\">     8070</td><td>2024-06-03 06:50:01</td><td>2024-06-03 06:42:25</td><td style=\"text-align: right;\">              1</td><td style=\"text-align: right;\">               0</td><td style=\"text-align: right;\">                    1</td><td style=\"text-align: right;\">                     2</td><td>2024-06-03    </td><td style=\"text-align: right;\">                    1</td><td>1222       </td><td>42.30079002</td><td>-83.07097849</td></tr>\n",
       "</tbody>\n",
       "</table>"
      ],
      "text/plain": [
       "  #    Stop Code  Stop Name                    Direction    Route Name      Vehicle  ActualTime           Start Trip Time        Passengers In    Passengers Out    Passengers Transfer    Actual Bus Occupancy  Business Day      daily_order_trip_id  stop_code    stop_lat     stop_lon\n",
       "  0         1834  Hotel Dieu Grace Healthcare  EASTBOUND    418 EXPRESS        8070  2024-06-03 06:42:25  2024-06-03 06:42:25                0                 0                      0                       0  2024-06-03                          1  1834         42.286447    -83.064606\n",
       "  1         2090  Prince at College            EASTBOUND    418 EXPRESS        8070  2024-06-03 06:46:37  2024-06-03 06:42:25                0                 0                      0                       0  2024-06-03                          1  2090         42.289898    -83.075598\n",
       "  2         9622  Peter at Chippawa            EASTBOUND    418 EXPRESS        8070  2024-06-03 06:48:30  2024-06-03 06:42:25                1                 0                      1                       1  2024-06-03                          1  --           --           --\n",
       "  3         9623  Peter at Brock               EASTBOUND    418 EXPRESS        8070  2024-06-03 06:49:09  2024-06-03 06:42:25                0                 0                      0                       1  2024-06-03                          1  --           --           --\n",
       "  4         1222  Wyandotte at Mill            EASTBOUND    418 EXPRESS        8070  2024-06-03 06:50:01  2024-06-03 06:42:25                1                 0                      1                       2  2024-06-03                          1  1222         42.30079002  -83.07097849"
      ]
     },
     "execution_count": 28,
     "metadata": {},
     "output_type": "execute_result"
    }
   ],
   "source": [
    "# Perform the join operation\n",
    "for key, df in dfs_dict.items():\n",
    "    dfs_dict[key] = df.join(\n",
    "        unique_stop_codes,          # The right DataFrame\n",
    "        left_on='Stop Code',        # Column in the left DataFrame (df)\n",
    "        right_on='stop_code',       # Column in the right DataFrame (unique_stop_codes)\n",
    "        how='left'                  # Perform a left join\n",
    "        )\n",
    "\n",
    "dfs_dict['June 2024'].head(5)"
   ]
  },
  {
   "cell_type": "markdown",
   "metadata": {},
   "source": [
    "# Make the vaex file and export them as csv and also add a month column"
   ]
  },
  {
   "cell_type": "code",
   "execution_count": 36,
   "metadata": {},
   "outputs": [],
   "source": [
    "# Iterate over each DataFrame in the dictionary\n",
    "for key, df in dfs_dict.items():\n",
    "    # Copy the DataFrame to avoid modifying the original\n",
    "    df_copy = df.copy()\n",
    "    \n",
    "    # Determine the full month name based on the dictionary key\n",
    "    month_name = key.split()[0]  # Extract the month part from the key\n",
    "    if month_name == \"Jan\":\n",
    "        month_name = \"January\"\n",
    "    elif month_name == \"Feb\":\n",
    "        month_name = \"February\"\n",
    "\n",
    "    # Generate a constant array of the month name matching the unfiltered length\n",
    "    full_array = np.full(df_copy.length_unfiltered(), month_name, dtype='U10')\n",
    "\n",
    "    # Add a physical column to the DataFrame\n",
    "    df_copy.add_column('month', full_array)\n",
    "\n",
    "    # Update the dictionary with the modified DataFrame\n",
    "    dfs_dict[key] = df_copy"
   ]
  },
  {
   "cell_type": "code",
   "execution_count": 37,
   "metadata": {},
   "outputs": [
    {
     "name": "stdout",
     "output_type": "stream",
     "text": [
      "Saved cleaned_datasets/October_2023.csv\n",
      "Saved cleaned_datasets/Jan_2024.csv\n",
      "Saved cleaned_datasets/October_2024.csv\n",
      "Saved cleaned_datasets/July_2024.csv\n",
      "Saved cleaned_datasets/June_2024.csv\n",
      "Saved cleaned_datasets/September_2024.csv\n",
      "Saved cleaned_datasets/August_2024.csv\n",
      "Saved cleaned_datasets/December_2023.csv\n",
      "Saved cleaned_datasets/Feb_2024.csv\n",
      "Saved cleaned_datasets/November_2023.csv\n",
      "Saved cleaned_datasets/March_2024.csv\n",
      "Saved cleaned_datasets/April_2024.csv\n",
      "Saved cleaned_datasets/May_2024.csv\n"
     ]
    }
   ],
   "source": [
    "# Define the folder name\n",
    "folder_name = \"cleaned_datasets\"\n",
    "\n",
    "# Create the folder if it doesn't exist\n",
    "os.makedirs(folder_name, exist_ok=True)\n",
    "\n",
    "# Iterate over the dictionary and save each DataFrame as a CSV\n",
    "for key, df in dfs_dict.items():\n",
    "    # Replace spaces in the key with underscores\n",
    "    file_name = key.replace(\" \", \"_\") + \".csv\"\n",
    "    \n",
    "    # Define the full path for the CSV\n",
    "    file_path = os.path.join(folder_name, file_name)\n",
    "    \n",
    "    # Save the DataFrame as a CSV\n",
    "    df.export_csv(file_path)\n",
    "    \n",
    "    print(f\"Saved {file_path}\")"
   ]
  },
  {
   "cell_type": "markdown",
   "metadata": {},
   "source": [
    "# Add the Expected Arrive Time column to each month"
   ]
  },
  {
   "cell_type": "code",
   "execution_count": null,
   "metadata": {},
   "outputs": [],
   "source": []
  }
 ],
 "metadata": {
  "kernelspec": {
   "display_name": "vaex",
   "language": "python",
   "name": "python3"
  },
  "language_info": {
   "codemirror_mode": {
    "name": "ipython",
    "version": 3
   },
   "file_extension": ".py",
   "mimetype": "text/x-python",
   "name": "python",
   "nbconvert_exporter": "python",
   "pygments_lexer": "ipython3",
   "version": "3.9.18"
  }
 },
 "nbformat": 4,
 "nbformat_minor": 2
}
